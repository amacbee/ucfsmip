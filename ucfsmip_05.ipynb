{
 "cells": [
  {
   "cell_type": "markdown",
   "metadata": {},
   "source": [
    "# Chapter 5 - Ultimate † Machine"
   ]
  },
  {
   "cell_type": "markdown",
   "metadata": {
    "collapsed": true
   },
   "source": [
    "これまでの話：\n",
    "\n",
    "- 3章4章では，単純な計算モデルの能力調べた (複雑な文字列認識・正規表現・パース)\n",
    "- 有限オートマトンやプッシュダウン・オートマトンでは限界がある\n",
    "\n",
    "この章の話：  \n",
    "ハードコードされたタスクを実行するのではなく、プログラムを実行できる機械を設計したい！  \n",
    "　→ 自動機械 (automatic machine) を設計する"
   ]
  },
  {
   "cell_type": "markdown",
   "metadata": {},
   "source": [
    "## 5.1 決定性チューリングマシン\n",
    "\n",
    "4章ではスタックを外部記憶として使ってたけど、スタックは格納した後のデータの利用方法が不便（First-In Last-Out）  \n",
    "もっと柔軟なストレージに置き換えよう！"
   ]
  },
  {
   "cell_type": "markdown",
   "metadata": {},
   "source": [
    "### 5.1.1 ストレージ\n",
    "\n",
    "チューリングさんの案\n",
    "\n",
    "- 機械に無限の長さの空白のテープを渡し，テープの任意の場所に文字を読み書きできるようにする\n",
    "  - 無限の長さ？→ 必要に応じて両端を伸ばせる1次元配列\n",
    "- テープはストレージと入力，両方の役割を果たす\n",
    "  - 事前にそのテープを入力として扱う文字列で埋めておき，計算を実行しながらテープにある文字を読む\n",
    "    - 必要に応じて上書きする\n",
    "\n",
    "無限の長さのテープにアクセスする有限状態機械：  \n",
    "$\\underline{チューリングマシン {\\rm (TM：Turing Machine)}}$ ( a.k.a $\\underline{決定性チューリングマシン {\\rm (Deterministic Turing Machine)}}$ )\n",
    "\n",
    "↓ どうやって設計するの？\n",
    "\n",
    "- 選択肢1つ目：各マス目にユニークな文字からなるアドレスをつけ、テープをランダムアクセス可能にする\n",
    "  - 無限の長さのテープのどうやってアドレスを割り当てるのか\n",
    "  - アクセスしたいマス目のアドレスをどうやって指定するのか\n",
    "- 選択肢2つ目：テープ上の特定の位置 ($\\underline{テープヘッド {\\rm (tape head)}}$) にある文字だけを読み書きすることができることにする\n",
    "  - 計算を1ステップ実行するたびに，テープヘッドを1マスずつ左右どちらかに動かせる\n",
    "    - 離れた場所だと時間がかかるが，確実にデータにアクセスできる\n",
    "\n",
    "選択肢2を採用！\n",
    "\n",
    "#### 2進数をインクリメントするDTMを設計\n",
    "\n",
    "状態が3つ (1/2/3) あって、状態3が受理状態  \n",
    "テープヘッドが最も右にある数を指している状態がスタート状態 (状態1)  \n",
    "最終状態ではテープヘッドをスタート状態にする\n",
    "\n",
    "- 状態：1\n",
    "  - 数が0であれば1で置き換えて、テープヘッドを右に動かし、状態2に進む\n",
    "  - 数が1であれば0で置き換えて、その左にある数をインクリメントする\n",
    "- 状態：2\n",
    "  - 0か1を読むと、テープヘッドを右に動かす\n",
    "  - 空白を読むと、テープヘッドを左に動かし、状態3に進む\n",
    "- 状態：3\n",
    "  - 受理\n",
    "\n",
    "※表5 - 1参照した方が早い  \n",
    "※テープヘッドを最初の位置に戻すのは、機械を再実行可能にするため"
   ]
  },
  {
   "cell_type": "markdown",
   "metadata": {},
   "source": [
    "### 5.1.2 規則\n",
    "\n",
    "上記であげた規則の形式は、以下の5つのパーツから構成される\n",
    "\n",
    "- 機械の現在の状態\n",
    "- テープヘッドの現在の位置にあるはずの文字\n",
    "- 機械の次の状態\n",
    "- テープヘッドの現在の位置に書くべき文字\n",
    "- テープに書いたあと、テープヘッドを動かす方向（左右）\n",
    "\n",
    "矢印にラベルがついてるだけで，DFAとほとんど同じ感じになる\n",
    "\n",
    "#### 文字列認識\n",
    "\n",
    "1個以上の文字 $a$ に、$b$ と $c$ が同じ数だけ続くような入力 ( \\`$aaabbbccc$ \\`) を認識する問題を考える  \n",
    "以下を繰り返すことになる\n",
    "\n",
    "- 状態：1\n",
    "  - $a$ が見つかるまで、テープヘッドを右に動かして入力文字列をスキャン\n",
    "  - $a$ を見つけたらそれを $X$ で置き換え，状態2に進む\n",
    "  - $a$ を見つけられないまま末尾にまで達したら状態6に進む\n",
    "- 状態：2\n",
    "  - $b$ が見つかるまで、テープヘッドを右に動かして入力文字列をスキャン\n",
    "  - $b$ を見つけたらそれを $X$ で置き換え，状態3に進む\n",
    "- 状態：3\n",
    "  - $c$ が見つかるまで、テープヘッドを右に動かして入力文字列をスキャン\n",
    "  - $b$ を見つけたらそれを $X$ で置き換え、状態4に進む\n",
    "- 状態：4\n",
    "  - 入力文字の末尾を探して右にスキャンする\n",
    "  - 入力の末尾に達したら状態5に進む\n",
    "- 状態：5\n",
    "  - 先頭を探して左にスキャンする\n",
    "  - 先頭に達したら状態1に進む\n",
    "- 状態：6\n",
    "  - 受理\n",
    "  \n",
    "※表5 - 2参照した方が早い  \n",
    "※別の文字が含まれることを想定していないので注意が必要"
   ]
  },
  {
   "cell_type": "markdown",
   "metadata": {},
   "source": [
    "### 5.1.3 決定性\n",
    "\n",
    "- 自由移動がない\n",
    "- 状態と文字の組合せに対して矛盾がない規則を1つだけ持てる\n",
    "  - 適用できる規則がないときいは暗黙の行き詰まりに陥る"
   ]
  },
  {
   "cell_type": "markdown",
   "metadata": {},
   "source": [
    "### 5.1.4 シミュレーション"
   ]
  },
  {
   "cell_type": "code",
   "execution_count": 1,
   "metadata": {
    "collapsed": false
   },
   "outputs": [
    {
     "data": {
      "text/plain": [
       ":inspect"
      ]
     },
     "execution_count": 1,
     "metadata": {},
     "output_type": "execute_result"
    }
   ],
   "source": [
    "# チューリングマシンのテープの実装\n",
    "#    - テープに書かれている文字の格納 (left - middle - right)\n",
    "#    - テープヘッドの現在の位置 (middle)\n",
    "#    - 無限に長くて空白のマス目で埋められていることを表現 (blank)\n",
    "\n",
    "class Tape < Struct.new(:left, :middle, :right, :blank)\n",
    "  def inspect\n",
    "    \"#<Tape #{left.join} (#{middle}) #{right.join}>\"\n",
    "  end\n",
    "end"
   ]
  },
  {
   "cell_type": "code",
   "execution_count": 2,
   "metadata": {
    "collapsed": false
   },
   "outputs": [
    {
     "data": {
      "text/plain": [
       "#<Tape 101 (1) >"
      ]
     },
     "execution_count": 2,
     "metadata": {},
     "output_type": "execute_result"
    }
   ],
   "source": [
    "# 新しいテープを作成\n",
    "tape = Tape.new(['1', '0', '1'], '1', [], '_')"
   ]
  },
  {
   "cell_type": "code",
   "execution_count": 3,
   "metadata": {
    "collapsed": false
   },
   "outputs": [
    {
     "data": {
      "text/plain": [
       "\"1\""
      ]
     },
     "execution_count": 3,
     "metadata": {},
     "output_type": "execute_result"
    }
   ],
   "source": [
    "# テープヘッドの下にある文字を読む\n",
    "tape.middle"
   ]
  },
  {
   "cell_type": "code",
   "execution_count": 4,
   "metadata": {
    "collapsed": false
   },
   "outputs": [
    {
     "data": {
      "text/plain": [
       ":move_head_right"
      ]
     },
     "execution_count": 4,
     "metadata": {},
     "output_type": "execute_result"
    }
   ],
   "source": [
    "class Tape\n",
    "  #テープヘッドの位置に文字を書く操作\n",
    "  def write(character)\n",
    "    Tape.new(left, character, right, blank)\n",
    "  end\n",
    "  \n",
    "  # テープヘッドを左に動かす操作\n",
    "  def move_head_left\n",
    "    Tape.new(left[0..-2], left.last || blank, [middle] + right, blank)\n",
    "  end\n",
    "  \n",
    "  # テープヘッドを右に動かす操作\n",
    "  def move_head_right\n",
    "    Tape.new(left + [middle], right.first || blank, right.drop(1), blank)\n",
    "  end\n",
    "end"
   ]
  },
  {
   "cell_type": "code",
   "execution_count": 5,
   "metadata": {
    "collapsed": false
   },
   "outputs": [
    {
     "data": {
      "text/plain": [
       "#<Tape 101 (1) >"
      ]
     },
     "execution_count": 5,
     "metadata": {},
     "output_type": "execute_result"
    }
   ],
   "source": [
    "tape"
   ]
  },
  {
   "cell_type": "code",
   "execution_count": 6,
   "metadata": {
    "collapsed": false
   },
   "outputs": [
    {
     "data": {
      "text/plain": [
       "#<Tape 10 (1) 1>"
      ]
     },
     "execution_count": 6,
     "metadata": {},
     "output_type": "execute_result"
    }
   ],
   "source": [
    "# テープヘッドを左に動かす\n",
    "tape.move_head_left"
   ]
  },
  {
   "cell_type": "code",
   "execution_count": 7,
   "metadata": {
    "collapsed": false
   },
   "outputs": [
    {
     "data": {
      "text/plain": [
       "#<Tape 101 (0) >"
      ]
     },
     "execution_count": 7,
     "metadata": {},
     "output_type": "execute_result"
    }
   ],
   "source": [
    "# テープヘッドの位置に `0` と書き込む\n",
    "tape.write('0')"
   ]
  },
  {
   "cell_type": "code",
   "execution_count": 8,
   "metadata": {
    "collapsed": false
   },
   "outputs": [
    {
     "data": {
      "text/plain": [
       "#<Tape 1011 (_) >"
      ]
     },
     "execution_count": 8,
     "metadata": {},
     "output_type": "execute_result"
    }
   ],
   "source": [
    "# テープヘッドを右に動かす\n",
    "tape.move_head_right"
   ]
  },
  {
   "cell_type": "code",
   "execution_count": 9,
   "metadata": {
    "collapsed": false
   },
   "outputs": [
    {
     "data": {
      "text/plain": [
       "#<Tape 1011 (0) >"
      ]
     },
     "execution_count": 9,
     "metadata": {},
     "output_type": "execute_result"
    }
   ],
   "source": [
    "# テープヘッドの位置に `0` と書き込む\n",
    "tape.move_head_right.write('0')"
   ]
  },
  {
   "cell_type": "markdown",
   "metadata": {},
   "source": [
    "チューリングマシンの構成は状態とテープの組み合わせになる  \n",
    "チューリングマシンの規則は，その構成を直接扱うようにして実装できる"
   ]
  },
  {
   "cell_type": "code",
   "execution_count": 10,
   "metadata": {
    "collapsed": false
   },
   "outputs": [
    {
     "data": {
      "text/plain": [
       ":applies_to?"
      ]
     },
     "execution_count": 10,
     "metadata": {},
     "output_type": "execute_result"
    }
   ],
   "source": [
    "# チューリングマシンの構成\n",
    "\n",
    "class TMConfiguration < Struct.new(:state, :tape)\n",
    "end\n",
    "\n",
    "class TMRule < Struct.new(:state, :character, :next_state, :write_character, :direction)\n",
    "  def applies_to?(configuration)\n",
    "    state == configuration.state && character == configuration.tape.middle\n",
    "  end\n",
    "end"
   ]
  },
  {
   "cell_type": "code",
   "execution_count": 11,
   "metadata": {
    "collapsed": false
   },
   "outputs": [
    {
     "data": {
      "text/plain": [
       "#<struct TMRule state=1, character=\"0\", next_state=2, write_character=\"1\", direction=:right>"
      ]
     },
     "execution_count": 11,
     "metadata": {},
     "output_type": "execute_result"
    }
   ],
   "source": [
    "rule = TMRule.new(1, '0', 2, '1', :right)"
   ]
  },
  {
   "cell_type": "code",
   "execution_count": 12,
   "metadata": {
    "collapsed": false
   },
   "outputs": [
    {
     "name": "stdout",
     "output_type": "stream",
     "text": [
      "true\n",
      "false\n",
      "false\n"
     ]
    }
   ],
   "source": [
    "# それぞれの規則は、現在の状態と現在テープヘッドの下にある文字が期待しているものと一致したときにのみ適用される\n",
    "\n",
    "puts(rule.applies_to?(TMConfiguration.new(1, Tape.new([], '0', [], '_'))))\n",
    "puts(rule.applies_to?(TMConfiguration.new(1, Tape.new([], '1', [], '_'))))\n",
    "puts(rule.applies_to?(TMConfiguration.new(2, Tape.new([], '0', [], '_'))))"
   ]
  },
  {
   "cell_type": "markdown",
   "metadata": {},
   "source": [
    " 規則にしたがって，新しい文字を書き，テープヘッドを動かし，機械の状態を変更する  \n",
    "　　--> 機械の構成を更新"
   ]
  },
  {
   "cell_type": "code",
   "execution_count": 13,
   "metadata": {
    "collapsed": false
   },
   "outputs": [
    {
     "data": {
      "text/plain": [
       ":next_tape"
      ]
     },
     "execution_count": 13,
     "metadata": {},
     "output_type": "execute_result"
    }
   ],
   "source": [
    "class TMRule\n",
    "  def follow(configuration)\n",
    "    TMConfiguration.new(next_state, next_tape(configuration))\n",
    "  end\n",
    "  \n",
    "  def next_tape(configuration)\n",
    "    written_tape = configuration.tape.write(write_character)\n",
    "    \n",
    "    case direction\n",
    "    when :left\n",
    "      written_tape.move_head_left\n",
    "    when :right\n",
    "      written_tape.move_head_right\n",
    "    end\n",
    "  end\n",
    "end"
   ]
  },
  {
   "cell_type": "code",
   "execution_count": 14,
   "metadata": {
    "collapsed": false
   },
   "outputs": [
    {
     "data": {
      "text/plain": [
       "#<struct TMConfiguration state=2, tape=#<Tape 1 (_) >>"
      ]
     },
     "execution_count": 14,
     "metadata": {},
     "output_type": "execute_result"
    }
   ],
   "source": [
    "rule.follow(TMConfiguration.new(1, Tape.new([], '0', [], '_')))"
   ]
  },
  {
   "cell_type": "markdown",
   "metadata": {},
   "source": [
    "DTMRulebookの実装は，DFARulebookやDPDARulebookとほとんど同じ"
   ]
  },
  {
   "cell_type": "code",
   "execution_count": 15,
   "metadata": {
    "collapsed": false
   },
   "outputs": [
    {
     "data": {
      "text/plain": [
       ":rule_for"
      ]
     },
     "execution_count": 15,
     "metadata": {},
     "output_type": "execute_result"
    }
   ],
   "source": [
    "class DTMRulebook < Struct.new(:rules)\n",
    "  def next_configuration(configuration)\n",
    "    rule_for(configuration).follow(configuration)\n",
    "  end\n",
    "  def rule_for(configuration)\n",
    "    rules.detect { |rule| rule.applies_to?(configuration) }\n",
    "  end\n",
    "end"
   ]
  },
  {
   "cell_type": "code",
   "execution_count": 16,
   "metadata": {
    "collapsed": false
   },
   "outputs": [
    {
     "data": {
      "text/plain": [
       "#<struct DTMRulebook rules=[#<struct TMRule state=1, character=\"0\", next_state=2, write_character=\"1\", direction=:right>, #<struct TMRule state=1, character=\"1\", next_state=1, write_character=\"0\", direction=:left>, #<struct TMRule state=1, character=\"_\", next_state=2, write_character=\"1\", direction=:right>, #<struct TMRule state=2, character=\"0\", next_state=2, write_character=\"0\", direction=:right>, #<struct TMRule state=2, character=\"1\", next_state=2, write_character=\"1\", direction=:right>, #<struct TMRule state=2, character=\"_\", next_state=3, write_character=\"_\", direction=:left>]>"
      ]
     },
     "execution_count": 16,
     "metadata": {},
     "output_type": "execute_result"
    }
   ],
   "source": [
    "rulebook = DTMRulebook.new([\n",
    "  TMRule.new(1, '0', 2, '1', :right),\n",
    "  TMRule.new(1, '1', 1, '0', :left),\n",
    "  TMRule.new(1, '_', 2, '1', :right),\n",
    "  TMRule.new(2, '0', 2, '0', :right),\n",
    "  TMRule.new(2, '1', 2, '1', :right),\n",
    "  TMRule.new(2, '_', 3, '_', :left)\n",
    "  ])"
   ]
  },
  {
   "cell_type": "code",
   "execution_count": 17,
   "metadata": {
    "collapsed": false
   },
   "outputs": [
    {
     "data": {
      "text/plain": [
       "#<struct TMConfiguration state=1, tape=#<Tape 101 (1) >>"
      ]
     },
     "execution_count": 17,
     "metadata": {},
     "output_type": "execute_result"
    }
   ],
   "source": [
    "configuration = TMConfiguration.new(1, tape)"
   ]
  },
  {
   "cell_type": "code",
   "execution_count": 18,
   "metadata": {
    "collapsed": false
   },
   "outputs": [
    {
     "data": {
      "text/plain": [
       "#<struct TMConfiguration state=1, tape=#<Tape 10 (1) 0>>"
      ]
     },
     "execution_count": 18,
     "metadata": {},
     "output_type": "execute_result"
    }
   ],
   "source": [
    "configuration = rulebook.next_configuration(configuration)"
   ]
  },
  {
   "cell_type": "code",
   "execution_count": 19,
   "metadata": {
    "collapsed": false
   },
   "outputs": [
    {
     "data": {
      "text/plain": [
       "#<struct TMConfiguration state=1, tape=#<Tape 1 (0) 00>>"
      ]
     },
     "execution_count": 19,
     "metadata": {},
     "output_type": "execute_result"
    }
   ],
   "source": [
    "configuration = rulebook.next_configuration(configuration)"
   ]
  },
  {
   "cell_type": "code",
   "execution_count": 20,
   "metadata": {
    "collapsed": false
   },
   "outputs": [
    {
     "data": {
      "text/plain": [
       "#<struct TMConfiguration state=2, tape=#<Tape 11 (0) 0>>"
      ]
     },
     "execution_count": 20,
     "metadata": {},
     "output_type": "execute_result"
    }
   ],
   "source": [
    "configuration = rulebook.next_configuration(configuration)"
   ]
  },
  {
   "cell_type": "markdown",
   "metadata": {},
   "source": [
    "うまく実装出来ているっぽい！\n",
    "\n",
    "DTMクラスにまとめて，#stepメソッドと#runメソッドを用意する"
   ]
  },
  {
   "cell_type": "code",
   "execution_count": 21,
   "metadata": {
    "collapsed": false
   },
   "outputs": [
    {
     "data": {
      "text/plain": [
       ":run"
      ]
     },
     "execution_count": 21,
     "metadata": {},
     "output_type": "execute_result"
    }
   ],
   "source": [
    "class DTM < Struct.new(:current_configuration, :accept_status, :rulebook)\n",
    "  def accepting?\n",
    "    accept_status.include?(current_configuration.state)\n",
    "  end\n",
    "  \n",
    "  def step\n",
    "    self.current_configuration = rulebook.next_configuration(current_configuration)\n",
    "  end\n",
    "  \n",
    "  def run\n",
    "    step until accepting?\n",
    "  end\n",
    "end"
   ]
  },
  {
   "cell_type": "code",
   "execution_count": 22,
   "metadata": {
    "collapsed": false
   },
   "outputs": [
    {
     "data": {
      "text/plain": [
       "#<struct DTM current_configuration=#<struct TMConfiguration state=1, tape=#<Tape 101 (1) >>, accept_status=[3], rulebook=#<struct DTMRulebook rules=[#<struct TMRule state=1, character=\"0\", next_state=2, write_character=\"1\", direction=:right>, #<struct TMRule state=1, character=\"1\", next_state=1, write_character=\"0\", direction=:left>, #<struct TMRule state=1, character=\"_\", next_state=2, write_character=\"1\", direction=:right>, #<struct TMRule state=2, character=\"0\", next_state=2, write_character=\"0\", direction=:right>, #<struct TMRule state=2, character=\"1\", next_state=2, write_character=\"1\", direction=:right>, #<struct TMRule state=2, character=\"_\", next_state=3, write_character=\"_\", direction=:left>]>>"
      ]
     },
     "execution_count": 22,
     "metadata": {},
     "output_type": "execute_result"
    }
   ],
   "source": [
    "dtm = DTM.new(TMConfiguration.new(1, tape), [3], rulebook)"
   ]
  },
  {
   "cell_type": "code",
   "execution_count": 23,
   "metadata": {
    "collapsed": false
   },
   "outputs": [
    {
     "data": {
      "text/plain": [
       "#<struct TMConfiguration state=1, tape=#<Tape 101 (1) >>"
      ]
     },
     "execution_count": 23,
     "metadata": {},
     "output_type": "execute_result"
    }
   ],
   "source": [
    "dtm.current_configuration"
   ]
  },
  {
   "cell_type": "code",
   "execution_count": 25,
   "metadata": {
    "collapsed": false
   },
   "outputs": [
    {
     "data": {
      "text/plain": [
       "false"
      ]
     },
     "execution_count": 25,
     "metadata": {},
     "output_type": "execute_result"
    }
   ],
   "source": [
    "dtm.accepting?"
   ]
  },
  {
   "cell_type": "code",
   "execution_count": 26,
   "metadata": {
    "collapsed": false
   },
   "outputs": [
    {
     "data": {
      "text/plain": [
       "#<struct TMConfiguration state=1, tape=#<Tape 10 (1) 0>>"
      ]
     },
     "execution_count": 26,
     "metadata": {},
     "output_type": "execute_result"
    }
   ],
   "source": [
    "dtm.step; dtm.current_configuration"
   ]
  },
  {
   "cell_type": "code",
   "execution_count": 27,
   "metadata": {
    "collapsed": false
   },
   "outputs": [
    {
     "data": {
      "text/plain": [
       "false"
      ]
     },
     "execution_count": 27,
     "metadata": {},
     "output_type": "execute_result"
    }
   ],
   "source": [
    "dtm.accepting?"
   ]
  },
  {
   "cell_type": "code",
   "execution_count": 28,
   "metadata": {
    "collapsed": true
   },
   "outputs": [],
   "source": [
    "dtm.run"
   ]
  },
  {
   "cell_type": "code",
   "execution_count": 29,
   "metadata": {
    "collapsed": false
   },
   "outputs": [
    {
     "data": {
      "text/plain": [
       "#<struct TMConfiguration state=3, tape=#<Tape 110 (0) _>>"
      ]
     },
     "execution_count": 29,
     "metadata": {},
     "output_type": "execute_result"
    }
   ],
   "source": [
    "dtm.current_configuration"
   ]
  },
  {
   "cell_type": "code",
   "execution_count": 30,
   "metadata": {
    "collapsed": false
   },
   "outputs": [
    {
     "data": {
      "text/plain": [
       "true"
      ]
     },
     "execution_count": 30,
     "metadata": {},
     "output_type": "execute_result"
    }
   ],
   "source": [
    "dtm.accepting?"
   ]
  },
  {
   "cell_type": "markdown",
   "metadata": {},
   "source": [
    "チューリングマシンには外部入力がないため，規則集と現在の構成を見るだけで，行き詰まり状態にあるかどうか判断できる"
   ]
  },
  {
   "cell_type": "code",
   "execution_count": 31,
   "metadata": {
    "collapsed": false
   },
   "outputs": [
    {
     "data": {
      "text/plain": [
       ":run"
      ]
     },
     "execution_count": 31,
     "metadata": {},
     "output_type": "execute_result"
    }
   ],
   "source": [
    "class DTMRulebook\n",
    "  def applies_to?(configuration)\n",
    "    !rule_for(configuration).nil?\n",
    "  end\n",
    "end\n",
    "\n",
    "class DTM\n",
    "  def stuck?\n",
    "    !accepting? && !rulebook.applies_to?(current_configuration)\n",
    "  end\n",
    "  \n",
    "  def run\n",
    "    step until accepting? || stuck?\n",
    "  end\n",
    "end"
   ]
  },
  {
   "cell_type": "code",
   "execution_count": 32,
   "metadata": {
    "collapsed": false
   },
   "outputs": [
    {
     "data": {
      "text/plain": [
       "#<struct DTM current_configuration=#<struct TMConfiguration state=1, tape=#<Tape 101 (1) >>, accept_status=[3], rulebook=#<struct DTMRulebook rules=[#<struct TMRule state=1, character=\"0\", next_state=2, write_character=\"1\", direction=:right>, #<struct TMRule state=1, character=\"1\", next_state=1, write_character=\"0\", direction=:left>, #<struct TMRule state=1, character=\"_\", next_state=2, write_character=\"1\", direction=:right>, #<struct TMRule state=2, character=\"0\", next_state=2, write_character=\"0\", direction=:right>, #<struct TMRule state=2, character=\"1\", next_state=2, write_character=\"1\", direction=:right>, #<struct TMRule state=2, character=\"_\", next_state=3, write_character=\"_\", direction=:left>]>>"
      ]
     },
     "execution_count": 32,
     "metadata": {},
     "output_type": "execute_result"
    }
   ],
   "source": [
    "dtm = DTM.new(TMConfiguration.new(1, tape), [3], rulebook)"
   ]
  },
  {
   "cell_type": "code",
   "execution_count": 33,
   "metadata": {
    "collapsed": true
   },
   "outputs": [],
   "source": [
    "dtm.run"
   ]
  },
  {
   "cell_type": "code",
   "execution_count": 34,
   "metadata": {
    "collapsed": false
   },
   "outputs": [
    {
     "data": {
      "text/plain": [
       "#<struct TMConfiguration state=3, tape=#<Tape 110 (0) _>>"
      ]
     },
     "execution_count": 34,
     "metadata": {},
     "output_type": "execute_result"
    }
   ],
   "source": [
    "dtm.current_configuration"
   ]
  },
  {
   "cell_type": "code",
   "execution_count": 35,
   "metadata": {
    "collapsed": false
   },
   "outputs": [
    {
     "data": {
      "text/plain": [
       "true"
      ]
     },
     "execution_count": 35,
     "metadata": {},
     "output_type": "execute_result"
    }
   ],
   "source": [
    "dtm.accepting?"
   ]
  },
  {
   "cell_type": "code",
   "execution_count": 36,
   "metadata": {
    "collapsed": false
   },
   "outputs": [
    {
     "data": {
      "text/plain": [
       "false"
      ]
     },
     "execution_count": 36,
     "metadata": {},
     "output_type": "execute_result"
    }
   ],
   "source": [
    "dtm.stuck?"
   ]
  },
  {
   "cell_type": "markdown",
   "metadata": {},
   "source": [
    "stuck と accepting の出力が逆。。。"
   ]
  },
  {
   "cell_type": "markdown",
   "metadata": {},
   "source": [
    "\\`$aaabbbccc$\\` のような文字列を認識するためのチューリングマシンを構築"
   ]
  },
  {
   "cell_type": "code",
   "execution_count": 37,
   "metadata": {
    "collapsed": false
   },
   "outputs": [
    {
     "data": {
      "text/plain": [
       "#<struct DTMRulebook rules=[#<struct TMRule state=1, character=\"X\", next_state=1, write_character=\"X\", direction=:right>, #<struct TMRule state=1, character=\"a\", next_state=2, write_character=\"X\", direction=:right>, #<struct TMRule state=1, character=\"_\", next_state=6, write_character=\"_\", direction=:left>, #<struct TMRule state=2, character=\"a\", next_state=2, write_character=\"a\", direction=:right>, #<struct TMRule state=2, character=\"X\", next_state=2, write_character=\"X\", direction=:right>, #<struct TMRule state=2, character=\"b\", next_state=3, write_character=\"X\", direction=:right>, #<struct TMRule state=3, character=\"b\", next_state=3, write_character=\"b\", direction=:right>, #<struct TMRule state=3, character=\"X\", next_state=3, write_character=\"X\", direction=:right>, #<struct TMRule state=3, character=\"c\", next_state=4, write_character=\"X\", direction=:right>, #<struct TMRule state=4, character=\"c\", next_state=4, write_character=\"c\", direction=:right>, #<struct TMRule state=4, character=\"_\", next_state=5, write_character=\"_\", direction=:left>, #<struct TMRule state=5, character=\"a\", next_state=5, write_character=\"a\", direction=:left>, #<struct TMRule state=5, character=\"b\", next_state=5, write_character=\"b\", direction=:left>, #<struct TMRule state=5, character=\"c\", next_state=5, write_character=\"c\", direction=:left>, #<struct TMRule state=5, character=\"X\", next_state=5, write_character=\"X\", direction=:left>, #<struct TMRule state=5, character=\"_\", next_state=1, write_character=\"_\", direction=:right>]>"
      ]
     },
     "execution_count": 37,
     "metadata": {},
     "output_type": "execute_result"
    }
   ],
   "source": [
    "rulebook = DTMRulebook.new([\n",
    "  # 状態1: a を探して右にスキャンする\n",
    "  TMRule.new(1, 'X', 1, 'X', :right),  # Xをスキップ\n",
    "  TMRule.new(1, 'a', 2, 'X', :right),  # a を消して，状態2に進む\n",
    "  TMRule.new(1, '_', 6, '_', :left),    # 空白を見つけて，状態6 (受理状態) に進む\n",
    "  \n",
    "  # 状態2: b を探して右にスキャンする\n",
    "  TMRule.new(2, 'a', 2, 'a', :right),  # a をスキップする\n",
    "  TMRule.new(2, 'X', 2, 'X', :right),  # X をスキップする\n",
    "  TMRule.new(2, 'b', 3, 'X', :right),  # b を消して，状態3に進む\n",
    "  \n",
    "  # 状態3: c を探して右にスキャンする\n",
    "  TMRule.new(3, 'b', 3, 'b', :right),  # b をスキップする\n",
    "  TMRule.new(3, 'X', 3, 'X', :right),  # X をスキップする\n",
    "  TMRule.new(3, 'c', 4, 'X', :right),   # c を消して，状態4に進む\n",
    "  \n",
    "  # 状態4: 文字列の末尾を探して右にスキャン\n",
    "  TMRule.new(4, 'c', 4, 'c', :right),  # c をスキップする\n",
    "  TMRule.new(4, '_', 5, '_', :left),   # 空白を見つけて，状態5に進む\n",
    "  \n",
    "  # 状態5: 文字列の先頭を探して左にスキャンする\n",
    "  TMRule.new(5, 'a', 5, 'a', :left),   # a をスキップする\n",
    "  TMRule.new(5, 'b', 5, 'b', :left),   # b をスキップする\n",
    "  TMRule.new(5, 'c', 5, 'c', :left),   # c をスキップする\n",
    "  TMRule.new(5, 'X', 5, 'X', :left),   # X をスキップする\n",
    "  TMRule.new(5, '_', 1, '_', :right)  # 空白を見つけて，状態1に進む\n",
    "  ])"
   ]
  },
  {
   "cell_type": "code",
   "execution_count": 38,
   "metadata": {
    "collapsed": false
   },
   "outputs": [
    {
     "data": {
      "text/plain": [
       "#<Tape  (a) aabbbccc>"
      ]
     },
     "execution_count": 38,
     "metadata": {},
     "output_type": "execute_result"
    }
   ],
   "source": [
    "tape = Tape.new([], 'a', ['a', 'a', 'b', 'b', 'b', 'c', 'c', 'c'], '_')"
   ]
  },
  {
   "cell_type": "code",
   "execution_count": 39,
   "metadata": {
    "collapsed": false
   },
   "outputs": [
    {
     "data": {
      "text/plain": [
       "#<struct DTM current_configuration=#<struct TMConfiguration state=1, tape=#<Tape  (a) aabbbccc>>, accept_status=[6], rulebook=#<struct DTMRulebook rules=[#<struct TMRule state=1, character=\"X\", next_state=1, write_character=\"X\", direction=:right>, #<struct TMRule state=1, character=\"a\", next_state=2, write_character=\"X\", direction=:right>, #<struct TMRule state=1, character=\"_\", next_state=6, write_character=\"_\", direction=:left>, #<struct TMRule state=2, character=\"a\", next_state=2, write_character=\"a\", direction=:right>, #<struct TMRule state=2, character=\"X\", next_state=2, write_character=\"X\", direction=:right>, #<struct TMRule state=2, character=\"b\", next_state=3, write_character=\"X\", direction=:right>, #<struct TMRule state=3, character=\"b\", next_state=3, write_character=\"b\", direction=:right>, #<struct TMRule state=3, character=\"X\", next_state=3, write_character=\"X\", direction=:right>, #<struct TMRule state=3, character=\"c\", next_state=4, write_character=\"X\", direction=:right>, #<struct TMRule state=4, character=\"c\", next_state=4, write_character=\"c\", direction=:right>, #<struct TMRule state=4, character=\"_\", next_state=5, write_character=\"_\", direction=:left>, #<struct TMRule state=5, character=\"a\", next_state=5, write_character=\"a\", direction=:left>, #<struct TMRule state=5, character=\"b\", next_state=5, write_character=\"b\", direction=:left>, #<struct TMRule state=5, character=\"c\", next_state=5, write_character=\"c\", direction=:left>, #<struct TMRule state=5, character=\"X\", next_state=5, write_character=\"X\", direction=:left>, #<struct TMRule state=5, character=\"_\", next_state=1, write_character=\"_\", direction=:right>]>>"
      ]
     },
     "execution_count": 39,
     "metadata": {},
     "output_type": "execute_result"
    }
   ],
   "source": [
    "dtm = DTM.new(TMConfiguration.new(1, tape), [6], rulebook)"
   ]
  },
  {
   "cell_type": "code",
   "execution_count": 40,
   "metadata": {
    "collapsed": false
   },
   "outputs": [
    {
     "data": {
      "text/plain": [
       "#<struct TMConfiguration state=5, tape=#<Tape XaaXbbXc (c) _>>"
      ]
     },
     "execution_count": 40,
     "metadata": {},
     "output_type": "execute_result"
    }
   ],
   "source": [
    "10.times { dtm.step }; dtm.current_configuration"
   ]
  },
  {
   "cell_type": "code",
   "execution_count": 41,
   "metadata": {
    "collapsed": false
   },
   "outputs": [
    {
     "data": {
      "text/plain": [
       "#<struct TMConfiguration state=5, tape=#<Tape _XXa (X) XbXXc_>>"
      ]
     },
     "execution_count": 41,
     "metadata": {},
     "output_type": "execute_result"
    }
   ],
   "source": [
    "25.times { dtm.step }; dtm.current_configuration"
   ]
  },
  {
   "cell_type": "code",
   "execution_count": 42,
   "metadata": {
    "collapsed": false
   },
   "outputs": [
    {
     "data": {
      "text/plain": [
       "#<struct TMConfiguration state=6, tape=#<Tape _XXXXXXXX (X) _>>"
      ]
     },
     "execution_count": 42,
     "metadata": {},
     "output_type": "execute_result"
    }
   ],
   "source": [
    "dtm.run; dtm.current_configuration"
   ]
  },
  {
   "cell_type": "markdown",
   "metadata": {},
   "source": [
    "## 5.2 非決定性チューリングマシン"
   ]
  },
  {
   "cell_type": "markdown",
   "metadata": {},
   "source": [
    "Q. 非決定性はチューリングマシンの能力を高めるか？  \n",
    "A. ノー (非決定性チューリングマシンは決定性チューリングマシンを超えることはできない)\n",
    "\n",
    "- 決定性有限オートマトンと決定性チューリングマシンは非決定性をシミュレートできる\n",
    "  - 有限オートマトン：1つの状態を使って複数の状態の組合せを表現できる\n",
    "  - チューリングマシン：1本のテープを使って複数のテープの内容を格納できる\n",
    "- プッシュダウン・オートマトンは例外\n",
    "  - 1つのスタックを使って複数のスタックを同時に表現できない\n",
    "  \n",
    "決定性チューリングマシンはシミュレートする機械が取り得るすべての構成を，幅優先で調べることができる"
   ]
  },
  {
   "cell_type": "markdown",
   "metadata": {},
   "source": [
    "## 5.3 最大の能力\n",
    "\n",
    "チューリングマシンには，どんな拡張もシミュレートできる能力がある  \n",
    "→ チューリングマシンを拡張してさらに能力を高めようとしても，必ず失敗する運命にある\n",
    "\n",
    "チューリングマシンの拡張 (内部ストレージ，サブルーチン，複数のテープ，多次元のテープ) について，なぜそれが計算能力を高めることにならないのか見ていく"
   ]
  },
  {
   "cell_type": "markdown",
   "metadata": {},
   "source": [
    "### 5.3.1 内部ストレージ\n",
    "\n",
    "チューリングマシンには文字を「覚えておく」手段がないため，覚えていた文字に応じてアクションを実行するといった動作をとるのは不可能のように思える\n",
    "\n",
    "→ チューリングマシンはすぐれた内部ストレージを持っている．それは「現在の状態」である"
   ]
  },
  {
   "cell_type": "code",
   "execution_count": 43,
   "metadata": {
    "collapsed": false
   },
   "outputs": [
    {
     "data": {
      "text/plain": [
       "#<struct DTMRulebook rules=[#<struct TMRule state=1, character=\"a\", next_state=2, write_character=\"a\", direction=:right>, #<struct TMRule state=1, character=\"b\", next_state=3, write_character=\"b\", direction=:right>, #<struct TMRule state=1, character=\"c\", next_state=4, write_character=\"c\", direction=:rihgt>, #<struct TMRule state=2, character=\"a\", next_state=2, write_character=\"a\", direction=:right>, #<struct TMRule state=2, character=\"b\", next_state=2, write_character=\"b\", direction=:right>, #<struct TMRule state=2, character=\"c\", next_state=2, write_character=\"c\", direction=:right>, #<struct TMRule state=2, character=\"_\", next_state=5, write_character=\"a\", direction=:right>, #<struct TMRule state=3, character=\"a\", next_state=3, write_character=\"a\", direction=:right>, #<struct TMRule state=3, character=\"b\", next_state=3, write_character=\"b\", direction=:right>, #<struct TMRule state=3, character=\"c\", next_state=3, write_character=\"c\", direction=:right>, #<struct TMRule state=3, character=\"_\", next_state=5, write_character=\"b\", direction=:right>, #<struct TMRule state=4, character=\"a\", next_state=4, write_character=\"a\", direction=:right>, #<struct TMRule state=4, character=\"b\", next_state=4, write_character=\"b\", direction=:right>, #<struct TMRule state=4, character=\"c\", next_state=4, write_character=\"c\", direction=:right>, #<struct TMRule state=4, character=\"_\", next_state=5, write_character=\"c\", direction=:right>]>"
      ]
     },
     "execution_count": 43,
     "metadata": {},
     "output_type": "execute_result"
    }
   ],
   "source": [
    "# 文字列の先頭にある文字を末尾にコピーする\n",
    "\n",
    "rulebook = DTMRulebook.new([\n",
    "  # 状態1: テープから最初の文字を読む\n",
    "  TMRule.new(1, 'a', 2, 'a', :right),  # a を覚える\n",
    "  TMRule.new(1, 'b', 3, 'b', :right),  # b を覚える\n",
    "  TMRule.new(1, 'c', 4, 'c', :rihgt),  # c を覚える\n",
    "  \n",
    "  # 状態2: 文字列の末尾を探して右にスキャンする（a を覚えている）\n",
    "  TMRule.new(2, 'a', 2, 'a', :right),  # a をスキップする\n",
    "  TMRule.new(2, 'b', 2, 'b', :right),  # b をスキップする\n",
    "  TMRule.new(2, 'c', 2, 'c', :right),  # c をスキップする\n",
    "  TMRule.new(2, '_', 5, 'a', :right),  # 空白を見つけて，a を書く\n",
    "  \n",
    "  # 状態3: 文字列の末尾を探して右にスキャンする (b を覚えている)\n",
    "  TMRule.new(3, 'a', 3, 'a', :right),  # a をスキップする\n",
    "  TMRule.new(3, 'b', 3, 'b', :right),  # b をスキップする\n",
    "  TMRule.new(3, 'c', 3, 'c', :right),  # c をスキップする\n",
    "  TMRule.new(3, '_', 5, 'b', :right),  # 空白を見つけて，b を書く\n",
    "  \n",
    "  # 状態4: 文字列の末尾を探して右にスキャンする (c を覚えている)\n",
    "  TMRule.new(4, 'a', 4, 'a', :right),  # a をスキップする\n",
    "  TMRule.new(4, 'b', 4, 'b', :right),  # b をスキップする\n",
    "  TMRule.new(4, 'c', 4, 'c', :right),  # c をスキップする\n",
    "  TMRule.new(4, '_', 5, 'c', :right)   # 空白を見つけて，c を書く\n",
    "  ])"
   ]
  },
  {
   "cell_type": "code",
   "execution_count": 44,
   "metadata": {
    "collapsed": false
   },
   "outputs": [
    {
     "data": {
      "text/plain": [
       "#<Tape  (b) cbca>"
      ]
     },
     "execution_count": 44,
     "metadata": {},
     "output_type": "execute_result"
    }
   ],
   "source": [
    "tape = Tape.new([], 'b', ['c', 'b', 'c', 'a'], '_')"
   ]
  },
  {
   "cell_type": "code",
   "execution_count": 45,
   "metadata": {
    "collapsed": false
   },
   "outputs": [
    {
     "data": {
      "text/plain": [
       "#<struct DTM current_configuration=#<struct TMConfiguration state=1, tape=#<Tape  (b) cbca>>, accept_status=[5], rulebook=#<struct DTMRulebook rules=[#<struct TMRule state=1, character=\"a\", next_state=2, write_character=\"a\", direction=:right>, #<struct TMRule state=1, character=\"b\", next_state=3, write_character=\"b\", direction=:right>, #<struct TMRule state=1, character=\"c\", next_state=4, write_character=\"c\", direction=:rihgt>, #<struct TMRule state=2, character=\"a\", next_state=2, write_character=\"a\", direction=:right>, #<struct TMRule state=2, character=\"b\", next_state=2, write_character=\"b\", direction=:right>, #<struct TMRule state=2, character=\"c\", next_state=2, write_character=\"c\", direction=:right>, #<struct TMRule state=2, character=\"_\", next_state=5, write_character=\"a\", direction=:right>, #<struct TMRule state=3, character=\"a\", next_state=3, write_character=\"a\", direction=:right>, #<struct TMRule state=3, character=\"b\", next_state=3, write_character=\"b\", direction=:right>, #<struct TMRule state=3, character=\"c\", next_state=3, write_character=\"c\", direction=:right>, #<struct TMRule state=3, character=\"_\", next_state=5, write_character=\"b\", direction=:right>, #<struct TMRule state=4, character=\"a\", next_state=4, write_character=\"a\", direction=:right>, #<struct TMRule state=4, character=\"b\", next_state=4, write_character=\"b\", direction=:right>, #<struct TMRule state=4, character=\"c\", next_state=4, write_character=\"c\", direction=:right>, #<struct TMRule state=4, character=\"_\", next_state=5, write_character=\"c\", direction=:right>]>>"
      ]
     },
     "execution_count": 45,
     "metadata": {},
     "output_type": "execute_result"
    }
   ],
   "source": [
    "dtm = DTM.new(TMConfiguration.new(1, tape), [5], rulebook)"
   ]
  },
  {
   "cell_type": "code",
   "execution_count": 46,
   "metadata": {
    "collapsed": false
   },
   "outputs": [
    {
     "data": {
      "text/plain": [
       "#<Tape bcbcab (_) >"
      ]
     },
     "execution_count": 46,
     "metadata": {},
     "output_type": "execute_result"
    }
   ],
   "source": [
    "dtm.run; dtm.current_configuration.tape"
   ]
  },
  {
   "cell_type": "markdown",
   "metadata": {},
   "source": [
    "### 5.3.2 サブルーチン\n",
    "\n",
    "機械が $\\underline{サブルーチン {\\rm (subroutine)}}$ を呼び出せると，規則集の設計は簡単になる  \n",
    "→ 便利なだけで，機械の能力を高めるものではない\n",
    "\n",
    "小さなチューリングマシンを複数つなげることで，より大きなチューリングマシンを構築できる  \n",
    "→ サブルーチンを開始する状態と終了する状態それぞれに，コピーした小さな機械の開始状態と受理状態をマージする"
   ]
  },
  {
   "cell_type": "code",
   "execution_count": 47,
   "metadata": {
    "collapsed": false
   },
   "outputs": [
    {
     "data": {
      "text/plain": [
       ":increment_rules"
      ]
     },
     "execution_count": 47,
     "metadata": {},
     "output_type": "execute_result"
    }
   ],
   "source": [
    "# 「数をインクリメントする」機械を3つつなげて「数に3を足す」機械を構築する\n",
    "\n",
    "def increment_rules(start_state, return_state)\n",
    "  incrementing = start_state\n",
    "  finishing = Object.new\n",
    "  finished = return_state\n",
    "  \n",
    "  [\n",
    "    TMRule.new(incrementing, '0', finishing, '1', :right),\n",
    "    TMRule.new(incrementing, '1', incrementing, '0', :left),\n",
    "    TMRule.new(incrementing, '_', finishing, '1', :right),\n",
    "    TMRule.new(finishing, '0', finishing, '0', :right),\n",
    "    TMRule.new(finishing, '1', finishing, '1', :right),\n",
    "    TMRule.new(finishing, '_', finished, '_', :left)\n",
    "    ]\n",
    "end"
   ]
  },
  {
   "cell_type": "code",
   "execution_count": 48,
   "metadata": {
    "collapsed": false
   },
   "outputs": [
    {
     "data": {
      "text/plain": [
       "[0, 1, 2, 3]"
      ]
     },
     "execution_count": 48,
     "metadata": {},
     "output_type": "execute_result"
    }
   ],
   "source": [
    "added_zero, added_one, added_two, added_three = 0, 1, 2, 3"
   ]
  },
  {
   "cell_type": "code",
   "execution_count": 50,
   "metadata": {
    "collapsed": false
   },
   "outputs": [
    {
     "data": {
      "text/plain": [
       "#<struct DTMRulebook rules=[#<struct TMRule state=0, character=\"0\", next_state=#<Object:0x007fc8728db4d0>, write_character=\"1\", direction=:right>, #<struct TMRule state=0, character=\"1\", next_state=0, write_character=\"0\", direction=:left>, #<struct TMRule state=0, character=\"_\", next_state=#<Object:0x007fc8728db4d0>, write_character=\"1\", direction=:right>, #<struct TMRule state=#<Object:0x007fc8728db4d0>, character=\"0\", next_state=#<Object:0x007fc8728db4d0>, write_character=\"0\", direction=:right>, #<struct TMRule state=#<Object:0x007fc8728db4d0>, character=\"1\", next_state=#<Object:0x007fc8728db4d0>, write_character=\"1\", direction=:right>, #<struct TMRule state=#<Object:0x007fc8728db4d0>, character=\"_\", next_state=1, write_character=\"_\", direction=:left>, #<struct TMRule state=1, character=\"0\", next_state=#<Object:0x007fc8728db1b0>, write_character=\"1\", direction=:right>, #<struct TMRule state=1, character=\"1\", next_state=1, write_character=\"0\", direction=:left>, #<struct TMRule state=1, character=\"_\", next_state=#<Object:0x007fc8728db1b0>, write_character=\"1\", direction=:right>, #<struct TMRule state=#<Object:0x007fc8728db1b0>, character=\"0\", next_state=#<Object:0x007fc8728db1b0>, write_character=\"0\", direction=:right>, #<struct TMRule state=#<Object:0x007fc8728db1b0>, character=\"1\", next_state=#<Object:0x007fc8728db1b0>, write_character=\"1\", direction=:right>, #<struct TMRule state=#<Object:0x007fc8728db1b0>, character=\"_\", next_state=2, write_character=\"_\", direction=:left>, #<struct TMRule state=2, character=\"0\", next_state=#<Object:0x007fc8728dae40>, write_character=\"1\", direction=:right>, #<struct TMRule state=2, character=\"1\", next_state=2, write_character=\"0\", direction=:left>, #<struct TMRule state=2, character=\"_\", next_state=#<Object:0x007fc8728dae40>, write_character=\"1\", direction=:right>, #<struct TMRule state=#<Object:0x007fc8728dae40>, character=\"0\", next_state=#<Object:0x007fc8728dae40>, write_character=\"0\", direction=:right>, #<struct TMRule state=#<Object:0x007fc8728dae40>, character=\"1\", next_state=#<Object:0x007fc8728dae40>, write_character=\"1\", direction=:right>, #<struct TMRule state=#<Object:0x007fc8728dae40>, character=\"_\", next_state=3, write_character=\"_\", direction=:left>]>"
      ]
     },
     "execution_count": 50,
     "metadata": {},
     "output_type": "execute_result"
    }
   ],
   "source": [
    "rulebook = DTMRulebook.new(\n",
    "  increment_rules(added_zero, added_one) +\n",
    "  increment_rules(added_one, added_two) +\n",
    "    increment_rules(added_two, added_three)\n",
    ")"
   ]
  },
  {
   "cell_type": "code",
   "execution_count": 51,
   "metadata": {
    "collapsed": false
   },
   "outputs": [
    {
     "data": {
      "text/plain": [
       "18"
      ]
     },
     "execution_count": 51,
     "metadata": {},
     "output_type": "execute_result"
    }
   ],
   "source": [
    "rulebook.rules.length"
   ]
  },
  {
   "cell_type": "code",
   "execution_count": 52,
   "metadata": {
    "collapsed": false
   },
   "outputs": [
    {
     "data": {
      "text/plain": [
       "#<Tape 101 (1) >"
      ]
     },
     "execution_count": 52,
     "metadata": {},
     "output_type": "execute_result"
    }
   ],
   "source": [
    "tape = Tape.new(['1', '0', '1'], '1', [], '_')"
   ]
  },
  {
   "cell_type": "code",
   "execution_count": 54,
   "metadata": {
    "collapsed": false
   },
   "outputs": [
    {
     "data": {
      "text/plain": [
       "#<struct DTM current_configuration=#<struct TMConfiguration state=0, tape=#<Tape 101 (1) >>, accept_status=[3], rulebook=#<struct DTMRulebook rules=[#<struct TMRule state=0, character=\"0\", next_state=#<Object:0x007fc8728db4d0>, write_character=\"1\", direction=:right>, #<struct TMRule state=0, character=\"1\", next_state=0, write_character=\"0\", direction=:left>, #<struct TMRule state=0, character=\"_\", next_state=#<Object:0x007fc8728db4d0>, write_character=\"1\", direction=:right>, #<struct TMRule state=#<Object:0x007fc8728db4d0>, character=\"0\", next_state=#<Object:0x007fc8728db4d0>, write_character=\"0\", direction=:right>, #<struct TMRule state=#<Object:0x007fc8728db4d0>, character=\"1\", next_state=#<Object:0x007fc8728db4d0>, write_character=\"1\", direction=:right>, #<struct TMRule state=#<Object:0x007fc8728db4d0>, character=\"_\", next_state=1, write_character=\"_\", direction=:left>, #<struct TMRule state=1, character=\"0\", next_state=#<Object:0x007fc8728db1b0>, write_character=\"1\", direction=:right>, #<struct TMRule state=1, character=\"1\", next_state=1, write_character=\"0\", direction=:left>, #<struct TMRule state=1, character=\"_\", next_state=#<Object:0x007fc8728db1b0>, write_character=\"1\", direction=:right>, #<struct TMRule state=#<Object:0x007fc8728db1b0>, character=\"0\", next_state=#<Object:0x007fc8728db1b0>, write_character=\"0\", direction=:right>, #<struct TMRule state=#<Object:0x007fc8728db1b0>, character=\"1\", next_state=#<Object:0x007fc8728db1b0>, write_character=\"1\", direction=:right>, #<struct TMRule state=#<Object:0x007fc8728db1b0>, character=\"_\", next_state=2, write_character=\"_\", direction=:left>, #<struct TMRule state=2, character=\"0\", next_state=#<Object:0x007fc8728dae40>, write_character=\"1\", direction=:right>, #<struct TMRule state=2, character=\"1\", next_state=2, write_character=\"0\", direction=:left>, #<struct TMRule state=2, character=\"_\", next_state=#<Object:0x007fc8728dae40>, write_character=\"1\", direction=:right>, #<struct TMRule state=#<Object:0x007fc8728dae40>, character=\"0\", next_state=#<Object:0x007fc8728dae40>, write_character=\"0\", direction=:right>, #<struct TMRule state=#<Object:0x007fc8728dae40>, character=\"1\", next_state=#<Object:0x007fc8728dae40>, write_character=\"1\", direction=:right>, #<struct TMRule state=#<Object:0x007fc8728dae40>, character=\"_\", next_state=3, write_character=\"_\", direction=:left>]>>"
      ]
     },
     "execution_count": 54,
     "metadata": {},
     "output_type": "execute_result"
    }
   ],
   "source": [
    "dtm = DTM.new(TMConfiguration.new(added_zero, tape), [added_three], rulebook)"
   ]
  },
  {
   "cell_type": "code",
   "execution_count": 55,
   "metadata": {
    "collapsed": false
   },
   "outputs": [
    {
     "data": {
      "text/plain": [
       "#<Tape 111 (0) _>"
      ]
     },
     "execution_count": 55,
     "metadata": {},
     "output_type": "execute_result"
    }
   ],
   "source": [
    "dtm.run; dtm.current_configuration.tape"
   ]
  },
  {
   "cell_type": "markdown",
   "metadata": {},
   "source": [
    "### 5.3.3 複数のテープ\n",
    "\n",
    "独立したテープヘッドを備えたテープをもう1本追加することによって，チューリングマシンの能力は高まるか？  \n",
    "→ 当てはまらない．テープには十分なスペースがあるため，複数のテープの内容を1本のテープに畳み込める"
   ]
  },
  {
   "cell_type": "markdown",
   "metadata": {},
   "source": [
    "### 5.3.4 多次元のテープ\n",
    "\n",
    "チューリングマシンに無限の大きさの2次元の格子を使って，テープヘッドを左右だけでなく上下に動かせるようにする  \n",
    "→ 2次元の格子は，必ず1次元のテープでシミュレートできる (たとえば，1次元のテープを2本使う)  \n",
    "→ 5.3.3"
   ]
  },
  {
   "cell_type": "code",
   "execution_count": null,
   "metadata": {
    "collapsed": true
   },
   "outputs": [],
   "source": []
  }
 ],
 "metadata": {
  "kernelspec": {
   "display_name": "Ruby 2.2.2",
   "language": "ruby",
   "name": "ruby"
  },
  "language_info": {
   "file_extension": "rb",
   "mimetype": "application/x-ruby",
   "name": "ruby",
   "version": "2.2.2"
  }
 },
 "nbformat": 4,
 "nbformat_minor": 0
}
